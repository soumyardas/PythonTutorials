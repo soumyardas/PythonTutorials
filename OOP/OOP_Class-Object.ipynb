{
 "cells": [
  {
   "attachments": {},
   "cell_type": "markdown",
   "metadata": {},
   "source": [
    "## Object Oriented Programming (OOP) in Python"
   ]
  },
  {
   "attachments": {},
   "cell_type": "markdown",
   "metadata": {},
   "source": [
    "### Class and Object"
   ]
  },
  {
   "attachments": {},
   "cell_type": "markdown",
   "metadata": {},
   "source": [
    "#### Everything in Python is an __object__."
   ]
  },
  {
   "cell_type": "code",
   "execution_count": 1,
   "metadata": {},
   "outputs": [
    {
     "ename": "AttributeError",
     "evalue": "'list' object has no attribute 'upper'",
     "output_type": "error",
     "traceback": [
      "\u001b[0;31m---------------------------------------------------------------------------\u001b[0m",
      "\u001b[0;31mAttributeError\u001b[0m                            Traceback (most recent call last)",
      "Cell \u001b[0;32mIn[1], line 2\u001b[0m\n\u001b[1;32m      1\u001b[0m L\u001b[39m=\u001b[39m [\u001b[39m1\u001b[39m,\u001b[39m2\u001b[39m,\u001b[39m3\u001b[39m]\n\u001b[0;32m----> 2\u001b[0m L\u001b[39m.\u001b[39;49mupper()\n",
      "\u001b[0;31mAttributeError\u001b[0m: 'list' object has no attribute 'upper'"
     ]
    }
   ],
   "source": [
    "L= [1,2,3]\n",
    "L.upper()"
   ]
  },
  {
   "cell_type": "code",
   "execution_count": null,
   "metadata": {},
   "outputs": [],
   "source": [
    "s= \"hello\"\n",
    "s.append(\"x\") "
   ]
  },
  {
   "attachments": {},
   "cell_type": "markdown",
   "metadata": {},
   "source": [
    "#### OOP &rarr; __Generality__ to __Specificity__. The main power of OOP is that the programmer can create own __datatypes__."
   ]
  },
  {
   "attachments": {},
   "cell_type": "markdown",
   "metadata": {},
   "source": [
    "#### Class &rarr; __Blueprint__\n",
    "\n",
    "#### Object is an __instance__ of class \n",
    "In python, the syntax to create an object is, objectname= classname()"
   ]
  },
  {
   "cell_type": "code",
   "execution_count": null,
   "metadata": {},
   "outputs": [],
   "source": [
    "L= [1,2,3] # Use object literal\n",
    "M= list()  # Use traditional syntax to define object\n",
    "M.append(1)\n",
    "print(type(L))\n",
    "print(M, type(M))"
   ]
  },
  {
   "attachments": {},
   "cell_type": "markdown",
   "metadata": {},
   "source": [
    "Datatypes are bulit-in classes. The variable L is an object of the class \"list\"."
   ]
  },
  {
   "attachments": {},
   "cell_type": "markdown",
   "metadata": {},
   "source": [
    "##### To name a class, use Pascal case: e.g., HelloWorld.\n",
    "\n",
    "- Inside the class, we either have the data (property) or the function (behavior).\n",
    "- In Python, there is either the built-in class or the user-defined class"
   ]
  },
  {
   "cell_type": "code",
   "execution_count": 3,
   "metadata": {},
   "outputs": [],
   "source": [
    "class Atm: # built-in class\n",
    "    # constructor (a special function inside the class)\n",
    "    def __init__(self):\n",
    "        self.pin= \"\"\n",
    "        self.balance= 0.0\n",
    "        self.menu()\n",
    "\n",
    "\n",
    "    def menu(self):\n",
    "        user_input= input(\"\"\"\n",
    "        Hi! How can I help you?\n",
    "        1. Press 1 to create pin\n",
    "        2. Press 2 to change pin\n",
    "        3. Press 3 to check balance\n",
    "        4. Press 4 to withdraw\n",
    "        5. Press anything else to exit\n",
    "        \"\"\")   \n",
    "\n",
    "        if user_input== \"1\":\n",
    "            self.create_pin()\n",
    "        elif user_input== \"2\":\n",
    "            self.change_pin()\n",
    "        elif user_input== \"3\":\n",
    "            #self.check_balance()\n",
    "            pass\n",
    "        elif user_input== \"4\":\n",
    "            #self.withdraw()\n",
    "            pass\n",
    "        else:\n",
    "            exit()   \n",
    "\n",
    "    def create_pin(self):\n",
    "        user_pin= input(\"Enter your pin\")\n",
    "        self.pin= user_pin\n",
    "\n",
    "        user_balance= int(input(\"Enter your balance\"))\n",
    "        self.balance= user_balance   \n",
    "\n",
    "        print(\"Pin created successfully\")   \n",
    "        self.menu()\n",
    "\n",
    "    def change_pin(self):\n",
    "        old_pin= input(\"Enter old pin\")\n",
    "        if old_pin== self.pin:\n",
    "            # let user change the pin\n",
    "            new_pin= input(\"Enter new pin\")\n",
    "            self.pin= new_pin\n",
    "            print(\"Pin changed successfully\")\n",
    "            self.menu()\n",
    "        else:\n",
    "            print(\"Sorry! Cannot change your pin\")\n",
    "            self.menu()  \n",
    "\n",
    "      \n",
    "\n"
   ]
  },
  {
   "cell_type": "code",
   "execution_count": null,
   "metadata": {},
   "outputs": [
    {
     "name": "stdout",
     "output_type": "stream",
     "text": [
      "Pin created successfully\n",
      "<class '__main__.Atm'>\n"
     ]
    },
    {
     "ename": "",
     "evalue": "",
     "output_type": "error",
     "traceback": [
      "\u001b[1;31mThe Kernel crashed while executing code in the the current cell or a previous cell. Please review the code in the cell(s) to identify a possible cause of the failure. Click <a href='https://aka.ms/vscodeJupyterKernelCrash'>here</a> for more info. View Jupyter <a href='command:jupyter.viewOutput'>log</a> for further details."
     ]
    }
   ],
   "source": [
    "obj= Atm()\n",
    "print(type(obj))"
   ]
  },
  {
   "cell_type": "code",
   "execution_count": 4,
   "metadata": {},
   "outputs": [
    {
     "ename": "",
     "evalue": "",
     "output_type": "error",
     "traceback": [
      "\u001b[1;31mThe Kernel crashed while executing code in the the current cell or a previous cell. Please review the code in the cell(s) to identify a possible cause of the failure. Click <a href='https://aka.ms/vscodeJupyterKernelCrash'>here</a> for more info. View Jupyter <a href='command:jupyter.viewOutput'>log</a> for further details."
     ]
    }
   ],
   "source": [
    "obj2= Atm()"
   ]
  },
  {
   "cell_type": "code",
   "execution_count": null,
   "metadata": {},
   "outputs": [],
   "source": []
  },
  {
   "cell_type": "code",
   "execution_count": null,
   "metadata": {},
   "outputs": [],
   "source": []
  },
  {
   "cell_type": "code",
   "execution_count": null,
   "metadata": {},
   "outputs": [],
   "source": []
  },
  {
   "cell_type": "code",
   "execution_count": null,
   "metadata": {},
   "outputs": [],
   "source": []
  }
 ],
 "metadata": {
  "kernelspec": {
   "display_name": "data_science",
   "language": "python",
   "name": "python3"
  },
  "language_info": {
   "codemirror_mode": {
    "name": "ipython",
    "version": 3
   },
   "file_extension": ".py",
   "mimetype": "text/x-python",
   "name": "python",
   "nbconvert_exporter": "python",
   "pygments_lexer": "ipython3",
   "version": "3.9.16"
  },
  "orig_nbformat": 4
 },
 "nbformat": 4,
 "nbformat_minor": 2
}
